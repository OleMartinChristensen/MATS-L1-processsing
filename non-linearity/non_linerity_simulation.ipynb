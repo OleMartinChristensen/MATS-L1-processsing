{
 "cells": [
  {
   "cell_type": "code",
   "execution_count": 19,
   "id": "d107aa49",
   "metadata": {},
   "outputs": [],
   "source": [
    "import numpy as np\n",
    "import scipy.optimize as opt"
   ]
  },
  {
   "cell_type": "code",
   "execution_count": 71,
   "id": "cbb1e2b8",
   "metadata": {},
   "outputs": [],
   "source": [
    "def row_sum(CCD,nrowbin):\n",
    "    return CCD.reshape(-1,nrowbin,CCD.shape[-1]).sum(1)\n",
    "\n",
    "def col_sum(CCD,ncolbin):\n",
    "    \n",
    "    ncols = int(np.floor(CCD.shape[0]/ncolbin)) \n",
    "    CCD_binned = np.zeros((ncols,CCD.shape[1]))\n",
    "    for i in range(ncols):\n",
    "        CCD_binned[i,:] = np.sum(CCD[i*ncolbin:i*ncolbin+ncolbin,:])\n",
    "    \n",
    "    return np.mean(CCD_binned,axis=0) \n",
    "\n",
    "def row_sum_v2(CCD,nrowbin):\n",
    "    return CCD.reshape(-1,nrowbin,CCD.shape[-1]).sum(1)\n",
    "\n",
    "def col_sum_v1(CCD,ncolbin):\n",
    "    return CCD.reshape(CCD.shape[0],-1,ncolbin).sum(2)\n",
    "\n",
    "def transfer_function(value_in,a,b):\n",
    "    return a*value_in+b\n",
    "\n",
    "def sum_well(CCD,ncolbin,a,b):\n",
    "    return transfer_function(col_sum(CCD,ncolbin),a,b)\n",
    "\n",
    "def shift_register(CCD,nrowbin,a,b):\n",
    "    return transfer_function(row_sum(CCD,nrowbin),a,b)\n",
    "\n",
    "def total_model(CCD,nrowbin,ncolbin,x):\n",
    "    return sum_well(shift_register(transfer_function(CCD,x[0],x[1]),nrowbin,x[2],x[3]),ncolbin,x[4],x[5])\n",
    "\n",
    "def forward_model(x):\n",
    "    nrowbin = np.array([1,2,3,4])\n",
    "    ncolbin = np.array([1,2,3,4])\n",
    "    nrow = 2\n",
    "    ncol = 2\n",
    "    rows_tot = nrowbin.max()*nrow\n",
    "    cols_tot = ncolbin.max()*ncol\n",
    "    value = 5\n",
    "\n",
    "    CCD = np.ones((rows_tot,cols_tot))*value\n",
    "    #print(CCD)\n",
    "\n",
    "    y = np.zeros([len(nrowbin),len(ncolbin)])\n",
    "    for i in range(len(nrowbin)):\n",
    "        for j in range(len(ncolbin)):\n",
    "            y[i,j] = total_model(CCD,nrowbin[i],ncolbin[j],x)[0,0]\n",
    "            \n",
    "    return y\n",
    "\n",
    "def forward_model_real():\n",
    "    non_linearity = np.load(\n",
    "        '../calibration_data/linearity/'\n",
    "        + \"linearity_\"\n",
    "        + \"1\"\n",
    "        + \".npy\"\n",
    "    )\n",
    "\n",
    "    return None\n",
    "\n",
    "\n",
    "def optimize_function(x):\n",
    "    x_true = np.array([1,0,0.6,0,1,0])\n",
    "    y_true = forward_model(x_true)\n",
    "    \n",
    "    y_iter = forward_model(x)\n",
    "    \n",
    "    return np.linalg.norm(y_true-y_iter)\n",
    "    "
   ]
  },
  {
   "cell_type": "code",
   "execution_count": 62,
   "id": "a1f3913c",
   "metadata": {},
   "outputs": [
    {
     "data": {
      "text/plain": [
       "1011.3471006387782"
      ]
     },
     "execution_count": 62,
     "metadata": {},
     "output_type": "execute_result"
    }
   ],
   "source": [
    "non_linearity = np.load(\n",
    "    '../calibration_data/linearity/'\n",
    "    + \"linearity_\"\n",
    "    + \"1\"\n",
    "    + \".npy\"\n",
    ")\n",
    "np.polyval(non_linearity,1000)"
   ]
  },
  {
   "cell_type": "code",
   "execution_count": 63,
   "id": "7aad8131",
   "metadata": {},
   "outputs": [
    {
     "data": {
      "text/plain": [
       "6"
      ]
     },
     "execution_count": 63,
     "metadata": {},
     "output_type": "execute_result"
    }
   ],
   "source": [
    "x0 = np.array([1,0,1,0,1,0])\n",
    "x0.shape[0]"
   ]
  },
  {
   "cell_type": "code",
   "execution_count": 72,
   "id": "5d73b9e9",
   "metadata": {},
   "outputs": [
    {
     "ename": "IndexError",
     "evalue": "too many indices for array: array is 1-dimensional, but 2 were indexed",
     "output_type": "error",
     "traceback": [
      "\u001b[0;31m---------------------------------------------------------------------------\u001b[0m",
      "\u001b[0;31mIndexError\u001b[0m                                Traceback (most recent call last)",
      "\u001b[0;32m/tmp/ipykernel_78668/1629518240.py\u001b[0m in \u001b[0;36m<module>\u001b[0;34m\u001b[0m\n\u001b[1;32m      1\u001b[0m \u001b[0mx_true\u001b[0m \u001b[0;34m=\u001b[0m \u001b[0mnp\u001b[0m\u001b[0;34m.\u001b[0m\u001b[0marray\u001b[0m\u001b[0;34m(\u001b[0m\u001b[0;34m[\u001b[0m\u001b[0;36m1\u001b[0m\u001b[0;34m,\u001b[0m\u001b[0;36m0\u001b[0m\u001b[0;34m,\u001b[0m\u001b[0;36m1\u001b[0m\u001b[0;34m,\u001b[0m\u001b[0;36m0\u001b[0m\u001b[0;34m,\u001b[0m\u001b[0;36m0.6\u001b[0m\u001b[0;34m,\u001b[0m\u001b[0;36m0\u001b[0m\u001b[0;34m]\u001b[0m\u001b[0;34m)\u001b[0m\u001b[0;34m\u001b[0m\u001b[0m\n\u001b[0;32m----> 2\u001b[0;31m \u001b[0my_true\u001b[0m \u001b[0;34m=\u001b[0m \u001b[0mforward_model\u001b[0m\u001b[0;34m(\u001b[0m\u001b[0mx_true\u001b[0m\u001b[0;34m)\u001b[0m\u001b[0;34m\u001b[0m\u001b[0m\n\u001b[0m\u001b[1;32m      3\u001b[0m \u001b[0my_iter\u001b[0m \u001b[0;34m=\u001b[0m \u001b[0mforward_model\u001b[0m\u001b[0;34m(\u001b[0m\u001b[0mx0\u001b[0m\u001b[0;34m)\u001b[0m\u001b[0;34m\u001b[0m\u001b[0m\n\u001b[1;32m      4\u001b[0m \u001b[0;34m\u001b[0m\u001b[0m\n\u001b[1;32m      5\u001b[0m \u001b[0my_true\u001b[0m\u001b[0;34m-\u001b[0m\u001b[0my_iter\u001b[0m\u001b[0;34m\u001b[0m\u001b[0m\n",
      "\u001b[0;32m/tmp/ipykernel_78668/2865728863.py\u001b[0m in \u001b[0;36mforward_model\u001b[0;34m(x)\u001b[0m\n\u001b[1;32m     44\u001b[0m     \u001b[0;32mfor\u001b[0m \u001b[0mi\u001b[0m \u001b[0;32min\u001b[0m \u001b[0mrange\u001b[0m\u001b[0;34m(\u001b[0m\u001b[0mlen\u001b[0m\u001b[0;34m(\u001b[0m\u001b[0mnrowbin\u001b[0m\u001b[0;34m)\u001b[0m\u001b[0;34m)\u001b[0m\u001b[0;34m:\u001b[0m\u001b[0;34m\u001b[0m\u001b[0m\n\u001b[1;32m     45\u001b[0m         \u001b[0;32mfor\u001b[0m \u001b[0mj\u001b[0m \u001b[0;32min\u001b[0m \u001b[0mrange\u001b[0m\u001b[0;34m(\u001b[0m\u001b[0mlen\u001b[0m\u001b[0;34m(\u001b[0m\u001b[0mncolbin\u001b[0m\u001b[0;34m)\u001b[0m\u001b[0;34m)\u001b[0m\u001b[0;34m:\u001b[0m\u001b[0;34m\u001b[0m\u001b[0m\n\u001b[0;32m---> 46\u001b[0;31m             \u001b[0my\u001b[0m\u001b[0;34m[\u001b[0m\u001b[0mi\u001b[0m\u001b[0;34m,\u001b[0m\u001b[0mj\u001b[0m\u001b[0;34m]\u001b[0m \u001b[0;34m=\u001b[0m \u001b[0mtotal_model\u001b[0m\u001b[0;34m(\u001b[0m\u001b[0mCCD\u001b[0m\u001b[0;34m,\u001b[0m\u001b[0mnrowbin\u001b[0m\u001b[0;34m[\u001b[0m\u001b[0mi\u001b[0m\u001b[0;34m]\u001b[0m\u001b[0;34m,\u001b[0m\u001b[0mncolbin\u001b[0m\u001b[0;34m[\u001b[0m\u001b[0mj\u001b[0m\u001b[0;34m]\u001b[0m\u001b[0;34m,\u001b[0m\u001b[0mx\u001b[0m\u001b[0;34m)\u001b[0m\u001b[0;34m[\u001b[0m\u001b[0;36m0\u001b[0m\u001b[0;34m,\u001b[0m\u001b[0;36m0\u001b[0m\u001b[0;34m]\u001b[0m\u001b[0;34m\u001b[0m\u001b[0m\n\u001b[0m\u001b[1;32m     47\u001b[0m \u001b[0;34m\u001b[0m\u001b[0m\n\u001b[1;32m     48\u001b[0m     \u001b[0;32mreturn\u001b[0m \u001b[0my\u001b[0m\u001b[0;34m\u001b[0m\u001b[0m\n",
      "\u001b[0;31mIndexError\u001b[0m: too many indices for array: array is 1-dimensional, but 2 were indexed"
     ]
    }
   ],
   "source": [
    "x_true = np.array([1,0,1,0,0.6,0])\n",
    "y_true = forward_model(x_true)\n",
    "y_iter = forward_model(x0)\n",
    "\n",
    "y_true-y_iter"
   ]
  },
  {
   "cell_type": "code",
   "execution_count": 49,
   "id": "3788d0bc",
   "metadata": {},
   "outputs": [],
   "source": [
    "x_hat = opt.minimize(optimize_function, x0)"
   ]
  },
  {
   "cell_type": "code",
   "execution_count": 50,
   "id": "0c1f3ebf",
   "metadata": {},
   "outputs": [
    {
     "data": {
      "text/plain": [
       "array([ 9.60795097e-01,  2.93095051e-03,  8.25221982e-01,  4.35054983e-05,\n",
       "        7.56281582e-01, -4.37711577e-05])"
      ]
     },
     "execution_count": 50,
     "metadata": {},
     "output_type": "execute_result"
    }
   ],
   "source": [
    "x_hat.x"
   ]
  },
  {
   "cell_type": "code",
   "execution_count": null,
   "id": "5b539f14",
   "metadata": {},
   "outputs": [],
   "source": []
  }
 ],
 "metadata": {
  "kernelspec": {
   "display_name": "Python 3 (ipykernel)",
   "language": "python",
   "name": "python3"
  },
  "language_info": {
   "codemirror_mode": {
    "name": "ipython",
    "version": 3
   },
   "file_extension": ".py",
   "mimetype": "text/x-python",
   "name": "python",
   "nbconvert_exporter": "python",
   "pygments_lexer": "ipython3",
   "version": "3.7.0"
  }
 },
 "nbformat": 4,
 "nbformat_minor": 5
}
